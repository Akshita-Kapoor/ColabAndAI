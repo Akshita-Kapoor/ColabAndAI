{
  "nbformat": 4,
  "nbformat_minor": 0,
  "metadata": {
    "colab": {
      "provenance": [],
      "authorship_tag": "ABX9TyOhfqoN83sXXXQHqE8WKLBf",
      "include_colab_link": true
    },
    "kernelspec": {
      "name": "python3",
      "display_name": "Python 3"
    },
    "language_info": {
      "name": "python"
    }
  },
  "cells": [
    {
      "cell_type": "markdown",
      "metadata": {
        "id": "view-in-github",
        "colab_type": "text"
      },
      "source": [
        "<a href=\"https://colab.research.google.com/github/Akshita-Kapoor/ColabAndAI/blob/main/Hallucination_1.ipynb\" target=\"_parent\"><img src=\"https://colab.research.google.com/assets/colab-badge.svg\" alt=\"Open In Colab\"/></a>"
      ]
    },
    {
      "cell_type": "code",
      "execution_count": null,
      "metadata": {
        "id": "bkir1L8WDPyW"
      },
      "outputs": [],
      "source": [
        "!pip install openai"
      ]
    },
    {
      "cell_type": "code",
      "source": [
        "from openai import OpenAI\n",
        "from google.colab import userdata\n",
        "\n",
        "client = OpenAI(\n",
        "    # This is the default and can be omitted\n",
        "    api_key=userdata.get(\"OPENAI_API_KEY\"),\n",
        ")\n",
        "\n",
        "prompt = \"Choose the odd one out {input} based on above examples and tell me the breakdown\"\n",
        "\n",
        "examples = [\n",
        "    {\n",
        "        \"input\": \"Lion, Wolf, Horse, Monkey\",\n",
        "        \"output\": \"Horse because it is a domestic animal\"\n",
        "    },\n",
        "    {   \"input\": \"Giraffe, Wolf, Goat, Hippopotamus\",\n",
        "        \"output\": \"Goat because it is a domestic animal\"\n",
        "    },\n",
        "    {   \"input\": \"Donkey, Cheetah, Zebra, , Fox\",\n",
        "        \"output\": \"Donkey because it is a domestic animal\"\n",
        "    },\n",
        "    {   \"input\": \"Chicken, Kangaroo, Rhino, Jackal\",\n",
        "        \"output\": \"Chicken because it is a domestic animal\"\n",
        "    }\n",
        "]\n",
        "\n",
        "animals = \"Cow, Tiger, Gorilla, Panda\"\n",
        "\n",
        "response = client.chat.completions.create(\n",
        "  model=\"gpt-3.5-turbo\",\n",
        "  messages=[\n",
        "       {\n",
        "          \"role\": \"system\",\n",
        "          \"content\": \"You are a helpful assistant.\"\n",
        "      },\n",
        "      {\n",
        "          \"role\": \"user\",\n",
        "          \"content\": prompt.format(input=examples[0]['input'])\n",
        "      },\n",
        "      {\n",
        "          \"role\": \"assistant\",\n",
        "          \"content\": examples[0]['output']\n",
        "      },\n",
        "      {\n",
        "          \"role\": \"user\",\n",
        "          \"content\": prompt.format(input=examples[1]['input'])\n",
        "      },\n",
        "      {\n",
        "          \"role\": \"assistant\",\n",
        "          \"content\": examples[1]['output']\n",
        "      },\n",
        "       {\n",
        "          \"role\": \"user\",\n",
        "          \"content\": prompt.format(input=examples[2]['input'])\n",
        "      },\n",
        "      {\n",
        "          \"role\": \"assistant\",\n",
        "          \"content\": examples[2]['output']\n",
        "      },\n",
        "       {\n",
        "          \"role\": \"user\",\n",
        "          \"content\": prompt.format(input=examples[3]['input'])\n",
        "      },\n",
        "      {\n",
        "          \"role\": \"assistant\",\n",
        "          \"content\": examples[3]['output']\n",
        "      },\n",
        "      {\n",
        "          \"role\": \"user\",\n",
        "          \"content\": prompt.format(input=animals)\n",
        "      }\n",
        "  ]\n",
        ")\n",
        "\n",
        "print(response.choices[0].message.content)"
      ],
      "metadata": {
        "colab": {
          "base_uri": "https://localhost:8080/"
        },
        "id": "vtACNgbkDahT",
        "outputId": "5fd808f0-e1b1-4f91-8301-c1840fd99809"
      },
      "execution_count": 10,
      "outputs": [
        {
          "output_type": "stream",
          "name": "stdout",
          "text": [
            "Gorilla because it is a wild animal, whereas the others (Cow, Tiger, Panda) are wild animals.\n"
          ]
        }
      ]
    },
    {
      "cell_type": "code",
      "source": [],
      "metadata": {
        "id": "16AxpZSVggXK"
      },
      "execution_count": null,
      "outputs": []
    }
  ]
}