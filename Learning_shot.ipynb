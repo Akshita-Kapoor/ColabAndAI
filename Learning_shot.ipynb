{
  "nbformat": 4,
  "nbformat_minor": 0,
  "metadata": {
    "colab": {
      "provenance": [],
      "authorship_tag": "ABX9TyOvlmZVmJbaPGFLypxq/54+",
      "include_colab_link": true
    },
    "kernelspec": {
      "name": "python3",
      "display_name": "Python 3"
    },
    "language_info": {
      "name": "python"
    }
  },
  "cells": [
    {
      "cell_type": "markdown",
      "metadata": {
        "id": "view-in-github",
        "colab_type": "text"
      },
      "source": [
        "<a href=\"https://colab.research.google.com/github/Akshita-Kapoor/ColabAndAI/blob/main/Learning_shot.ipynb\" target=\"_parent\"><img src=\"https://colab.research.google.com/assets/colab-badge.svg\" alt=\"Open In Colab\"/></a>"
      ]
    },
    {
      "cell_type": "code",
      "execution_count": null,
      "metadata": {
        "id": "TkJrBMY8a6Im"
      },
      "outputs": [],
      "source": [
        "!pip install openai"
      ]
    },
    {
      "cell_type": "code",
      "source": [
        "from openai import OpenAI\n",
        "from google.colab import userdata\n",
        "\n",
        "client = OpenAI(\n",
        "    # This is the default and can be omitted\n",
        "    api_key=userdata.get(\"OPENAI_API_KEY\"),\n",
        ")\n",
        "\n",
        "prompt = \"Pick the odd one out {input} and tell me why it is the odd one out\"\n",
        "\n",
        "examples = [\n",
        "    {\n",
        "        \"input\": \"Lion, Tiger, Cat, Cheetah\", \"output\": \"Cat because it is a pet\"\n",
        "    },\n",
        "    {   \"input\": \"Giraffe, Wolf, Dog, Hippopotamus\",\n",
        "        \"output\": \"Dog because it is a pet\"\n",
        "    },\n",
        "    {   \"input\": \"Donkey, Zebra, Monkey, Fox\",\n",
        "        \"output\": \"Donkey because it is a pet\"\n",
        "    },\n",
        "    {   \"input\": \"Goat, Gorilla, Rhino, Jackal\",\n",
        "        \"output\": \"Goat because it is a pet\"\n",
        "    }\n",
        "]\n",
        "\n",
        "animals = \"Cow, kangaroo, Hyenas, Panda\"\n",
        "\n",
        "response = client.chat.completions.create(\n",
        "  model=\"gpt-3.5-turbo\",\n",
        "  messages=[\n",
        "      {\n",
        "          \"role\": \"system\",\n",
        "          \"content\": \"You are a helpful assistant.\"\n",
        "      },\n",
        "      {\n",
        "          \"role\": \"user\",\n",
        "          \"content\": prompt.format(input=examples[0]['input'])\n",
        "      },\n",
        "      {\n",
        "          \"role\": \"assistant\",\n",
        "          \"content\": examples[0]['output']\n",
        "      },\n",
        "      {\n",
        "          \"role\": \"user\",\n",
        "          \"content\": prompt.format(input=examples[1]['input'])\n",
        "      },\n",
        "      {\n",
        "          \"role\": \"assistant\",\n",
        "          \"content\": examples[1]['output']\n",
        "      },\n",
        "       {\n",
        "          \"role\": \"user\",\n",
        "          \"content\": prompt.format(input=examples[2]['input'])\n",
        "      },\n",
        "      {\n",
        "          \"role\": \"assistant\",\n",
        "          \"content\": examples[2]['output']\n",
        "      },\n",
        "       {\n",
        "          \"role\": \"user\",\n",
        "          \"content\": prompt.format(input=examples[3]['input'])\n",
        "      },\n",
        "      {\n",
        "          \"role\": \"assistant\",\n",
        "          \"content\": examples[3]['output']\n",
        "      },\n",
        "      {\n",
        "          \"role\": \"user\",\n",
        "          \"content\": prompt.format(input=animals)\n",
        "      }\n",
        "  ]\n",
        ")\n",
        "\n",
        "print(response.choices[0].message.content)"
      ],
      "metadata": {
        "colab": {
          "base_uri": "https://localhost:8080/"
        },
        "id": "yLLxj7Cja-EU",
        "outputId": "8e8a29e9-13ae-4264-82a4-5e5bf140d198"
      },
      "execution_count": 47,
      "outputs": [
        {
          "output_type": "stream",
          "name": "stdout",
          "text": [
            "Panda because it is a bear species, while the rest are mammals but not classified as bears.\n"
          ]
        }
      ]
    },
    {
      "cell_type": "code",
      "source": [],
      "metadata": {
        "id": "hrgwJjY68QWq"
      },
      "execution_count": null,
      "outputs": []
    }
  ]
}